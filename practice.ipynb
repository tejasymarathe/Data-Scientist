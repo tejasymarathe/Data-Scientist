{
 "cells": [
  {
   "cell_type": "markdown",
   "metadata": {},
   "source": [
    "Problem 1:\n",
    "Write a Python function count_vowels(s) that returns the number of vowels (a, e, i, o, u) in a string.\n",
    "Example: count_vowels(\"Hello World!\") → 3."
   ]
  },
  {
   "cell_type": "code",
   "execution_count": 2,
   "metadata": {},
   "outputs": [
    {
     "name": "stdout",
     "output_type": "stream",
     "text": [
      "3\n"
     ]
    }
   ],
   "source": [
    "def count_vowels(string):\n",
    "    vowels = [\"a\", \"e\", \"i\", \"o\", \"u\", \"A\" ,\"E\", \"I\", \"O\", \"U\"]\n",
    "    COUNT = 0\n",
    "    for i in string:\n",
    "        if i in vowels:\n",
    "            COUNT += 1\n",
    "        else:\n",
    "            pass\n",
    "    print(COUNT)\n",
    "\n",
    "count_vowels(\"Hello World!\")"
   ]
  }
 ],
 "metadata": {
  "kernelspec": {
   "display_name": "venv",
   "language": "python",
   "name": "python3"
  },
  "language_info": {
   "codemirror_mode": {
    "name": "ipython",
    "version": 3
   },
   "file_extension": ".py",
   "mimetype": "text/x-python",
   "name": "python",
   "nbconvert_exporter": "python",
   "pygments_lexer": "ipython3",
   "version": "3.11.1"
  }
 },
 "nbformat": 4,
 "nbformat_minor": 2
}
